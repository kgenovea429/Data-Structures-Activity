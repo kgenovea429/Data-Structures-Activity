{
 "cells": [
  {
   "cell_type": "code",
   "execution_count": 4,
   "id": "5cc1b628-7337-4778-b9ee-346a7f2af527",
   "metadata": {},
   "outputs": [
    {
     "name": "stdout",
     "output_type": "stream",
     "text": [
      "1st Matrix:\n",
      "[[11, 2, 7], [1, 1, 5]]\n",
      "\n",
      "2nd Matrix:\n",
      "[[2, 0, 2], [4, 2, 9]]\n"
     ]
    }
   ],
   "source": [
    "# 1. Creating Matrices\n",
    "\n",
    "# Name: Kayla Bansian Genovea\n",
    "Matrix_1 = [\n",
    "    [11, 2, 7],  # KBG\n",
    "    [1, 1, 5]     # aae\n",
    "]\n",
    "\n",
    "# Student Number: 2023-4-0429\n",
    "Matrix_2 = [\n",
    "    [2, 0, 2],     # first 3 digits\n",
    "    [4, 2, 9]      # last 3 digits\n",
    "]\n",
    "\n",
    "print(\"1st Matrix:\")\n",
    "print(Matrix_1)\n",
    "print(\"\\n2nd Matrix:\")\n",
    "print(Matrix_2)"
   ]
  },
  {
   "cell_type": "code",
   "execution_count": 5,
   "id": "89d53d0f-f217-4710-9fd3-8c52d9a4c114",
   "metadata": {},
   "outputs": [
    {
     "name": "stdout",
     "output_type": "stream",
     "text": [
      "\n",
      "3rd Matrix:\n",
      "[[13  2  9]\n",
      " [ 5  3 14]]\n"
     ]
    }
   ],
   "source": [
    "# 2. Matrix Addition\n",
    "import numpy as np\n",
    "\n",
    "A = np.array(Matrix_1)\n",
    "B = np.array(Matrix_2)\n",
    "C = A + B \n",
    "\n",
    "print(\"\\n3rd Matrix:\")\n",
    "print(C)"
   ]
  },
  {
   "cell_type": "code",
   "execution_count": 6,
   "id": "9e2b7ca7-66e5-4f9a-900c-bd452d115200",
   "metadata": {},
   "outputs": [
    {
     "name": "stdout",
     "output_type": "stream",
     "text": [
      "\n",
      "4th Matrix:\n",
      "[[22  4 14]\n",
      " [ 2  2 10]]\n"
     ]
    }
   ],
   "source": [
    "# 3. Scalar Multiplication\n",
    "\n",
    "D = 2 * A\n",
    "\n",
    "print(\"\\n4th Matrix:\")\n",
    "print(D)"
   ]
  },
  {
   "cell_type": "code",
   "execution_count": 9,
   "id": "e9958025-7779-4812-93fd-ecb6345f2090",
   "metadata": {},
   "outputs": [
    {
     "name": "stdout",
     "output_type": "stream",
     "text": [
      "\n",
      "5th Matrix:\n",
      "[[2 4]\n",
      " [0 2]\n",
      " [2 9]]\n"
     ]
    }
   ],
   "source": [
    "# 4. Matrix Transpose\n",
    "\n",
    "E = B.T\n",
    "\n",
    "print(\"\\n5th Matrix:\")\n",
    "print(E)"
   ]
  },
  {
   "cell_type": "code",
   "execution_count": 10,
   "id": "6048a13e-e0ff-455d-902b-44895141986c",
   "metadata": {},
   "outputs": [
    {
     "name": "stdout",
     "output_type": "stream",
     "text": [
      "\n",
      "6th Matrix:\n",
      "[[ 44 137]\n",
      " [ 38 152]]\n"
     ]
    }
   ],
   "source": [
    "# 5. Matrix Multiplication\n",
    "\n",
    "F = C @ E\n",
    "\n",
    "print(\"\\n6th Matrix:\")\n",
    "print(F)"
   ]
  },
  {
   "cell_type": "code",
   "execution_count": 11,
   "id": "ffe071c7-d882-4173-8f93-71f3d08fd6b9",
   "metadata": {},
   "outputs": [
    {
     "name": "stdout",
     "output_type": "stream",
     "text": [
      "\n",
      "Sum:\n",
      "46\n"
     ]
    }
   ],
   "source": [
    "# 6. Sum of All Elements\n",
    "\n",
    "sum_Matrix_3 = np.sum(C)\n",
    "\n",
    "print(\"\\nSum:\")\n",
    "print(sum_Matrix_3)"
   ]
  },
  {
   "cell_type": "code",
   "execution_count": 13,
   "id": "a67da0e3-b1a4-440e-87a1-bf27db3b716e",
   "metadata": {},
   "outputs": [
    {
     "name": "stdout",
     "output_type": "stream",
     "text": [
      "\n",
      "7th Matrix:\n",
      "[[0 0 0]\n",
      " [0 0 0]]\n"
     ]
    }
   ],
   "source": [
    "# 7. Zero Matrix\n",
    "\n",
    "G = np.zeros((2, 3), dtype = int)\n",
    "\n",
    "print(\"\\n7th Matrix:\")\n",
    "print(G)"
   ]
  }
 ],
 "metadata": {
  "kernelspec": {
   "display_name": "Python 3 (ipykernel)",
   "language": "python",
   "name": "python3"
  },
  "language_info": {
   "codemirror_mode": {
    "name": "ipython",
    "version": 3
   },
   "file_extension": ".py",
   "mimetype": "text/x-python",
   "name": "python",
   "nbconvert_exporter": "python",
   "pygments_lexer": "ipython3",
   "version": "3.12.7"
  }
 },
 "nbformat": 4,
 "nbformat_minor": 5
}
